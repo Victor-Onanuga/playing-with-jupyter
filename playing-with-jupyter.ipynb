{
 "cells": [
  {
   "cell_type": "code",
   "execution_count": 1,
   "id": "ec5c5c7e-65fd-448f-a9ff-fec416455a16",
   "metadata": {},
   "outputs": [],
   "source": [
    "i = 1\n",
    "j = 2\n",
    "k = i + j"
   ]
  },
  {
   "cell_type": "code",
   "execution_count": 2,
   "id": "3cc44793-f7ee-4aab-8863-2a264d5a0c74",
   "metadata": {},
   "outputs": [
    {
     "data": {
      "text/plain": [
       "3"
      ]
     },
     "execution_count": 2,
     "metadata": {},
     "output_type": "execute_result"
    }
   ],
   "source": [
    "k "
   ]
  },
  {
   "cell_type": "markdown",
   "id": "77563bb7-b926-4dea-935b-3aab32415ec8",
   "metadata": {},
   "source": [
    "# This is Markdown Heading\n",
    "\n",
    "**Bold text**\n",
    "\n",
    "- List 1\n",
    "- List 2\n",
    "- List 3"
   ]
  },
  {
   "cell_type": "code",
   "execution_count": null,
   "id": "cada70f4-0e4d-453b-b3b8-a5dddf4f0e69",
   "metadata": {},
   "outputs": [],
   "source": []
  }
 ],
 "metadata": {
  "kernelspec": {
   "display_name": "Python 3",
   "language": "python",
   "name": "python3"
  },
  "language_info": {
   "codemirror_mode": {
    "name": "ipython",
    "version": 3
   },
   "file_extension": ".py",
   "mimetype": "text/x-python",
   "name": "python",
   "nbconvert_exporter": "python",
   "pygments_lexer": "ipython3",
   "version": "3.8.8"
  }
 },
 "nbformat": 4,
 "nbformat_minor": 5
}
